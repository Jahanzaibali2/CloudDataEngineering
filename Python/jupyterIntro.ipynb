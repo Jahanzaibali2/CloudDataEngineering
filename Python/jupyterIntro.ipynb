{
 "cells": [
  {
   "cell_type": "code",
   "execution_count": 13,
   "metadata": {},
   "outputs": [
    {
     "name": "stdout",
     "output_type": "stream",
     "text": [
      "rana\n",
      "2.3333333333333335\n",
      "2\n"
     ]
    }
   ],
   "source": [
    "#shortcut of jupyter note books:\n",
    "print(\"rana\")\n",
    "x = 7/3\n",
    "y = 7//3\n",
    "print(x)\n",
    "print(y)"
   ]
  },
  {
   "cell_type": "code",
   "execution_count": 11,
   "metadata": {},
   "outputs": [
    {
     "name": "stdout",
     "output_type": "stream",
     "text": [
      "15\n",
      "15\n",
      "17\n",
      "17\n",
      "20\n",
      "20\n",
      "24\n",
      "24\n"
     ]
    }
   ],
   "source": [
    "\n",
    "### shortcut of jupyter note books:\n",
    "age = 14\n",
    "agee = 14\n",
    "for i in range(1,5):\n",
    "    age += i\n",
    "    agee = agee + i\n",
    "    print(age)\n",
    "    print(agee)"
   ]
  },
  {
   "cell_type": "code",
   "execution_count": 5,
   "metadata": {},
   "outputs": [
    {
     "name": "stdout",
     "output_type": "stream",
     "text": [
      "Your recieved a 5% bonus, your salary for this month is 3000.0\n"
     ]
    }
   ],
   "source": [
    "yearsOfService = int(input(\"Enter your year's of service: \"))\n",
    "Salary = int(input(\"Enter your Salary: \"))\n",
    "\n",
    "if yearsOfService >= 5:\n",
    "    Salary = Salary*0.05\n",
    "    print(f\"Your recieved a 5% bonus, your salary for this month is {Salary}\")\n",
    "\n",
    "else:\n",
    "    print(\"You're not eligible\")\n"
   ]
  },
  {
   "cell_type": "code",
   "execution_count": null,
   "metadata": {},
   "outputs": [],
   "source": []
  }
 ],
 "metadata": {
  "kernelspec": {
   "display_name": "Python 3",
   "language": "python",
   "name": "python3"
  },
  "language_info": {
   "codemirror_mode": {
    "name": "ipython",
    "version": 3
   },
   "file_extension": ".py",
   "mimetype": "text/x-python",
   "name": "python",
   "nbconvert_exporter": "python",
   "pygments_lexer": "ipython3",
   "version": "3.13.0"
  }
 },
 "nbformat": 4,
 "nbformat_minor": 2
}
